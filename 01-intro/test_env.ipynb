{
 "cells": [
  {
   "cell_type": "code",
   "execution_count": 1,
   "id": "d65eed18-04fd-4752-8781-fb57225558f7",
   "metadata": {},
   "outputs": [],
   "source": [
    "import openai"
   ]
  },
  {
   "cell_type": "code",
   "execution_count": 2,
   "id": "71f1b14f-fe4f-4355-9f95-ecac8a549e95",
   "metadata": {},
   "outputs": [],
   "source": [
    "import os"
   ]
  },
  {
   "cell_type": "code",
   "execution_count": 11,
   "id": "9dd4b900-0648-4685-91d5-c312f41768d6",
   "metadata": {},
   "outputs": [],
   "source": [
    "os.environ[\"OPENAI_API_KEY\"] = 'your key'"
   ]
  },
  {
   "cell_type": "code",
   "execution_count": 7,
   "id": "3a6b8afa-9ca4-434c-bd15-87ec96ca5084",
   "metadata": {},
   "outputs": [],
   "source": [
    "openai.base_url = \"https://api.groq.com/openai/v1/\""
   ]
  },
  {
   "cell_type": "code",
   "execution_count": 9,
   "id": "aa3406da-9909-44fd-a99f-45f44a115da3",
   "metadata": {},
   "outputs": [],
   "source": [
    "response = openai.chat.completions.create(\n",
    "    model=\"llama-3.3-70b-versatile\",\n",
    "    messages=[\n",
    "        {\"role\": \"user\", \"content\": \"Is it too late to join the course?\"}\n",
    "    ]\n",
    ")"
   ]
  },
  {
   "cell_type": "code",
   "execution_count": 10,
   "id": "22159ff3-b6e2-40f2-9861-20d0a37e307d",
   "metadata": {},
   "outputs": [
    {
     "name": "stdout",
     "output_type": "stream",
     "text": [
      "I'm happy to help, but I don't have any information about a specific course you're referring to. Could you please provide more context or details about the course, such as when it started, how long it is, and who is offering it? That way, I can give you a more informed answer about whether it's too late to join.\n"
     ]
    }
   ],
   "source": [
    "print(response.choices[0].message.content)"
   ]
  },
  {
   "cell_type": "code",
   "execution_count": null,
   "id": "48b5cea8-14c0-442b-aedf-cc366e68c030",
   "metadata": {},
   "outputs": [],
   "source": []
  }
 ],
 "metadata": {
  "kernelspec": {
   "display_name": "Python 3 (ipykernel)",
   "language": "python",
   "name": "python3"
  },
  "language_info": {
   "codemirror_mode": {
    "name": "ipython",
    "version": 3
   },
   "file_extension": ".py",
   "mimetype": "text/x-python",
   "name": "python",
   "nbconvert_exporter": "python",
   "pygments_lexer": "ipython3",
   "version": "3.12.1"
  }
 },
 "nbformat": 4,
 "nbformat_minor": 5
}
