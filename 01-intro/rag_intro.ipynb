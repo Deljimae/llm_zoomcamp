{
 "cells": [
  {
   "cell_type": "code",
   "execution_count": 102,
   "id": "79a5083d-5f63-48a0-8b4a-fd699a932510",
   "metadata": {},
   "outputs": [],
   "source": [
    "import minsearch\n",
    "import json"
   ]
  },
  {
   "cell_type": "code",
   "execution_count": 103,
   "id": "9b4f8dad-184b-48df-9257-3802c70d2ec8",
   "metadata": {},
   "outputs": [],
   "source": [
    "with open('documents-llm.json', 'rt') as f_in:\n",
    "    docs_raw = json.load(f_in)"
   ]
  },
  {
   "cell_type": "code",
   "execution_count": 104,
   "id": "8384ec0d-166c-4b5d-99a7-0be0dae1ed00",
   "metadata": {},
   "outputs": [],
   "source": [
    "documents = []"
   ]
  },
  {
   "cell_type": "code",
   "execution_count": 105,
   "id": "968b1965-aa0f-41fa-9097-659d2c0e723b",
   "metadata": {},
   "outputs": [],
   "source": [
    "for course_dict in docs_raw:\n",
    "    for docs in course_dict['documents']:\n",
    "        docs['course'] = course_dict['course']\n",
    "        documents.append(docs)"
   ]
  },
  {
   "cell_type": "code",
   "execution_count": 106,
   "id": "55c85947-975f-4f65-9589-a7637b9c77e3",
   "metadata": {},
   "outputs": [
    {
     "data": {
      "text/plain": [
       "{'text': 'Yes, but if you want to receive a certificate, you need to submit your project while we’re still accepting submissions.',\n",
       " 'section': 'General course-related questions',\n",
       " 'question': 'I just discovered the course. Can I still join?',\n",
       " 'course': 'llm-zoomcamp'}"
      ]
     },
     "execution_count": 106,
     "metadata": {},
     "output_type": "execute_result"
    }
   ],
   "source": [
    "documents[0]"
   ]
  },
  {
   "cell_type": "code",
   "execution_count": 107,
   "id": "1bb1d24d-1c5f-4fd5-8080-64459416947f",
   "metadata": {},
   "outputs": [],
   "source": [
    "# We are creating a search index using minsearch library based on the structure of the document. This makes the document easy to search using feilds like 'text' and 'question'\n",
    "\n",
    "index = minsearch.Index(\n",
    "    text_fields=[\"question\", \"section\", \"text\"],\n",
    "    keyword_fields=[\"course\"]\n",
    ")"
   ]
  },
  {
   "cell_type": "code",
   "execution_count": 108,
   "id": "8afca736-96d3-4f11-97c8-036c6011f731",
   "metadata": {},
   "outputs": [],
   "source": [
    "q = 'the course has already started, can I still enroll?'"
   ]
  },
  {
   "cell_type": "code",
   "execution_count": 109,
   "id": "af69008b-005c-41ef-bf1b-301145a57d0e",
   "metadata": {},
   "outputs": [
    {
     "data": {
      "text/plain": [
       "<minsearch.minsearch.Index at 0x700ed28737a0>"
      ]
     },
     "execution_count": 109,
     "metadata": {},
     "output_type": "execute_result"
    }
   ],
   "source": [
    "index.fit(documents)"
   ]
  },
  {
   "cell_type": "code",
   "execution_count": 110,
   "id": "b6756aa5-4c6c-4164-a2a1-850ca3a094f5",
   "metadata": {},
   "outputs": [],
   "source": [
    "from openai import OpenAI"
   ]
  },
  {
   "cell_type": "code",
   "execution_count": 111,
   "id": "1f5dff85-6be0-4847-9d87-ec8c0f4b2723",
   "metadata": {},
   "outputs": [],
   "source": [
    "client = OpenAI(api_key=\"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\", base_url=\"https://api.groq.com/openai/v1\")"
   ]
  },
  {
   "cell_type": "code",
   "execution_count": 112,
   "id": "ac325a51-555d-49d7-94c0-23eee7abe167",
   "metadata": {},
   "outputs": [
    {
     "name": "stdout",
     "output_type": "stream",
     "text": [
      "Whether you can still enroll in a course that has already started depends on the institution's policies and the instructor's discretion. Here are some possible scenarios:\n",
      "\n",
      "1. **Maybe**: Some institutions may allow late enrollments, but you'll need to check with the course instructor or the registrar's office to see if it's possible. They may consider your request if there's still space available in the course and you can catch up on the missed material.\n",
      "2. **Limited access**: In some cases, you might be allowed to enroll, but you may not have access to all the course materials or assignments that have already been covered. You may need to work with the instructor to create a plan to catch up on the missed content.\n",
      "3. **Self-study or audit**: If the course is not fully enrolled, you might be allowed to audit the course (attend classes without receiving credit) or access course materials as a self-study student. This way, you can still learn from the course, but you won't receive academic credit.\n",
      "4. **Waitlist**: If the course is full, you might be able to add your name to a waitlist. If a space becomes available, you'll be notified, and you can enroll in the course.\n",
      "5. **Not possible**: Unfortunately, some institutions or courses may not allow late enrollments, especially if the course has already progressed significantly. In this case, you may need to consider alternative courses or wait until the next offering.\n",
      "\n",
      "To find out if you can still enroll in the course, follow these steps:\n",
      "\n",
      "1. Contact the course instructor or teaching assistant to discuss your options.\n",
      "2. Reach out to the registrar's office or student services to ask about their late enrollment policies.\n",
      "3. Check the institution's online course catalog or website for any information on late enrollments.\n",
      "\n",
      "Remember to also consider the potential challenges of joining a course mid-semester, such as catching up on coursework, understanding the instructor's teaching style, and integrating with the existing class dynamic.\n"
     ]
    }
   ],
   "source": [
    "response = client.chat.completions.create(\n",
    "    model='llama3-70b-8192',\n",
    "    messages=[{\"role\":\"user\", \"content\": q}]\n",
    ")\n",
    "print(response.choices[0].message.content)"
   ]
  },
  {
   "cell_type": "code",
   "execution_count": 113,
   "id": "706e9a25-747a-4c53-9f12-6b210b1ede62",
   "metadata": {},
   "outputs": [],
   "source": [
    "def search(query):\n",
    "    boost = {'question': 3.0, 'section': 0.5}\n",
    "\n",
    "    results = index.search(\n",
    "        query=query,\n",
    "        filter_dict={'course': 'llm-zoomcamp'},\n",
    "        boost_dict=boost,\n",
    "        num_results=5\n",
    "    )\n",
    "\n",
    "    return results"
   ]
  },
  {
   "cell_type": "code",
   "execution_count": 114,
   "id": "efc28a19-4d81-471d-a908-a0d6991f0d07",
   "metadata": {},
   "outputs": [
    {
     "data": {
      "text/plain": [
       "[{'text': 'Cosine similarity is a measure used to calculate the similarity between two non-zero vectors, often used in text analysis to determine how similar two documents are based on their content. This metric computes the cosine of the angle between two vectors, which are typically word counts or TF-IDF values of the documents. The cosine similarity value ranges from -1 to 1, where 1 indicates that the vectors are identical, 0 indicates that the vectors are orthogonal (no similarity), and -1 represents completely opposite vectors.',\n",
       "  'section': 'Module 3: X',\n",
       "  'question': 'What is the cosine similarity?',\n",
       "  'course': 'llm-zoomcamp'},\n",
       " {'text': 'A “document” is a collection of fields, which are the key-value pairs that contain your data, that have been serialized as a JSON object.',\n",
       "  'section': 'Module 3: X',\n",
       "  'question': 'What are documents in ElasticSearch?',\n",
       "  'course': 'llm-zoomcamp'},\n",
       " {'text': 'When you stop the container, the data you previously added to elastic will be gone. To avoid it, we can add volume mapping:\\ndocker volume create elasticsearch_data\\ndocker run -it \\\\\\n--rm \\\\\\n--name elasticsearch \\\\\\n-p 9200:9200 \\\\\\n-p 9300:9300 \\\\\\n-v elasticsearch_data:/usr/share/elasticsearch/data \\\\\\n-e \"discovery.type=single-node\" \\\\\\n-e \"xpack.security.enabled=false\" \\\\\\ndocker.elastic.co/elasticsearch/elasticsearch:8.4.3',\n",
       "  'section': 'Module 1: Introduction',\n",
       "  'question': 'Docker: How do I store data persistently in Elasticsearch?',\n",
       "  'course': 'llm-zoomcamp'},\n",
       " {'text': 'The zoom link is only published to instructors/presenters/TAs.\\nStudents participate via Youtube Live and submit questions to Slido (link would be pinned in the chat when Alexey goes Live). The video URL should be posted in the announcements channel on Telegram & Slack before it begins. Also, you will see it live on the DataTalksClub YouTube Channel.\\nDon’t post your questions in chat as it would be off-screen before the instructors/moderators have a chance to answer it if the room is very active.',\n",
       "  'section': 'General course-related questions',\n",
       "  'question': 'What is the video/zoom link to the stream for the “Office Hours” or live/workshop sessions?',\n",
       "  'course': 'llm-zoomcamp'},\n",
       " {'text': 'No, the capstone is a solo project.',\n",
       "  'section': 'Capstone Project',\n",
       "  'question': 'Is it a group project?',\n",
       "  'course': 'llm-zoomcamp'}]"
      ]
     },
     "execution_count": 114,
     "metadata": {},
     "output_type": "execute_result"
    }
   ],
   "source": [
    "search('what is data warehouse')"
   ]
  },
  {
   "cell_type": "code",
   "execution_count": 115,
   "id": "77ed73ca-db6c-48a0-a63a-9053b83b7897",
   "metadata": {},
   "outputs": [],
   "source": [
    "def build_prompt(query, search_results):\n",
    "    prompt_template = \"\"\"\n",
    "You're a course teaching assistant. Answer the QUESTION based on the CONTEXT from the FAQ database.\n",
    "Use only the facts from the CONTEXT when answering the QUESTION.\n",
    "\n",
    "QUESTION: {question}\n",
    "\n",
    "CONTEXT: \n",
    "{context}\n",
    "\"\"\".strip()\n",
    "\n",
    "    context = \"\"\n",
    "    \n",
    "    for doc in search_results:\n",
    "        context = context + f\"section: {doc['section']}\\nquestion: {doc['question']}\\nanswer: {doc['text']}\\n\\n\"\n",
    "    \n",
    "    prompt = prompt_template.format(question=query, context=context).strip()\n",
    "    return prompt"
   ]
  },
  {
   "cell_type": "code",
   "execution_count": 116,
   "id": "e1a011f5-9190-4702-96fd-33df1aed8e27",
   "metadata": {},
   "outputs": [],
   "source": [
    "def llm(prompt):\n",
    "    response = client.chat.completions.create(\n",
    "        model='llama3-70b-8192',\n",
    "        messages=[{\"role\": \"user\", \"content\": prompt}]\n",
    "    )\n",
    "    \n",
    "    return response.choices[0].message.content"
   ]
  },
  {
   "cell_type": "code",
   "execution_count": 117,
   "id": "34544d12-c1ae-4dbc-89d1-0fe116c9bb1b",
   "metadata": {},
   "outputs": [],
   "source": [
    "query = 'can I still join the course?'\n",
    "\n",
    "def rag(query):\n",
    "    search_results = search(query)\n",
    "    prompt = build_prompt(query, search_results)\n",
    "    answer = llm(prompt)\n",
    "    return answer"
   ]
  },
  {
   "cell_type": "code",
   "execution_count": 118,
   "id": "30e41ffe-73e5-40e4-8b73-f31ca0ba666d",
   "metadata": {},
   "outputs": [
    {
     "data": {
      "text/plain": [
       "'According to the context, the answer to the question \"can I still join the course?\" is simply \"Yes\". There are no restrictions mentioned in the provided context that would prevent someone from joining the course.'"
      ]
     },
     "execution_count": 118,
     "metadata": {},
     "output_type": "execute_result"
    }
   ],
   "source": [
    "rag(query)"
   ]
  },
  {
   "cell_type": "code",
   "execution_count": 119,
   "id": "6ce2074e-4210-4531-a853-33e4d5b38841",
   "metadata": {},
   "outputs": [
    {
     "data": {
      "text/plain": [
       "'According to the FAQ database, yes, you can still enroll in the course even though it has already started. However, if you want to receive a certificate, you need to submit your project while the course is still accepting submissions.'"
      ]
     },
     "execution_count": 119,
     "metadata": {},
     "output_type": "execute_result"
    }
   ],
   "source": [
    "rag('the course has already started, can I still enroll?')"
   ]
  },
  {
   "cell_type": "code",
   "execution_count": 120,
   "id": "bd12e5f6-4eb7-443f-ae01-e701eee1d1da",
   "metadata": {},
   "outputs": [
    {
     "data": {
      "text/plain": [
       "{'text': 'Yes, but if you want to receive a certificate, you need to submit your project while we’re still accepting submissions.',\n",
       " 'section': 'General course-related questions',\n",
       " 'question': 'I just discovered the course. Can I still join?',\n",
       " 'course': 'llm-zoomcamp'}"
      ]
     },
     "execution_count": 120,
     "metadata": {},
     "output_type": "execute_result"
    }
   ],
   "source": [
    "documents[0]"
   ]
  },
  {
   "cell_type": "code",
   "execution_count": 121,
   "id": "be717688-a5d2-4364-9d3f-5d231b6630fa",
   "metadata": {},
   "outputs": [],
   "source": [
    "from elasticsearch import Elasticsearch"
   ]
  },
  {
   "cell_type": "code",
   "execution_count": 122,
   "id": "eafa0ddf-8d16-44f5-98b2-569b9dac5c67",
   "metadata": {},
   "outputs": [],
   "source": [
    "from elasticsearch import Elasticsearch"
   ]
  },
  {
   "cell_type": "code",
   "execution_count": 123,
   "id": "093d9171-53e0-49b5-9045-c9a188732efe",
   "metadata": {},
   "outputs": [],
   "source": [
    "es_client = Elasticsearch('http://localhost:9200')"
   ]
  },
  {
   "cell_type": "code",
   "execution_count": null,
   "id": "c77d6a8e-151c-4653-a0eb-f500335d9dcd",
   "metadata": {},
   "outputs": [],
   "source": [
    "index_settings = {\n",
    "    \"settings\": {\n",
    "        \"number_of_shards\": 1,\n",
    "        \"number_of_replicas\": 0\n",
    "    },\n",
    "    \"mappings\": {\n",
    "        \"properties\": {\n",
    "            \"text\": {\"type\": \"text\"},\n",
    "            \"section\": {\"type\": \"text\"},\n",
    "            \"question\": {\"type\": \"text\"},\n",
    "            \"course\": {\"type\": \"keyword\"} \n",
    "        }\n",
    "    }\n",
    "}\n",
    "\n",
    "index_name = \"course-questions\"\n",
    "\n",
    "es_client.indices.create(index=index_name, body=index_settings)"
   ]
  },
  {
   "cell_type": "code",
   "execution_count": 127,
   "id": "283d1bfd-c632-4906-9d4a-c4e54aa41316",
   "metadata": {},
   "outputs": [
    {
     "data": {
      "text/plain": [
       "{'text': 'Yes, but if you want to receive a certificate, you need to submit your project while we’re still accepting submissions.',\n",
       " 'section': 'General course-related questions',\n",
       " 'question': 'I just discovered the course. Can I still join?',\n",
       " 'course': 'llm-zoomcamp'}"
      ]
     },
     "execution_count": 127,
     "metadata": {},
     "output_type": "execute_result"
    }
   ],
   "source": [
    "documents[0]"
   ]
  },
  {
   "cell_type": "code",
   "execution_count": 128,
   "id": "6daa8929-f833-43c5-a7f2-bc8c60a72612",
   "metadata": {},
   "outputs": [],
   "source": [
    "from tqdm.auto import tqdm"
   ]
  },
  {
   "cell_type": "code",
   "execution_count": 129,
   "id": "ef29e1ca-9760-4660-968e-376a834c18f1",
   "metadata": {},
   "outputs": [
    {
     "data": {
      "application/vnd.jupyter.widget-view+json": {
       "model_id": "3e9dcd8bef6d44b38b2de214bb26133c",
       "version_major": 2,
       "version_minor": 0
      },
      "text/plain": [
       "  0%|          | 0/86 [00:00<?, ?it/s]"
      ]
     },
     "metadata": {},
     "output_type": "display_data"
    }
   ],
   "source": [
    "for doc in tqdm(documents):\n",
    "    es_client.index(index=index_name, document=doc)"
   ]
  },
  {
   "cell_type": "code",
   "execution_count": 134,
   "id": "1ab68e1c-74f3-49c3-b6b7-860715f6f58d",
   "metadata": {},
   "outputs": [],
   "source": [
    "query = 'Can I still join the course??'"
   ]
  },
  {
   "cell_type": "code",
   "execution_count": 135,
   "id": "f1ea1634-185c-4346-957c-28314851e406",
   "metadata": {},
   "outputs": [],
   "source": [
    "def elastic_search(query):\n",
    "    search_query = {\n",
    "        \"size\": 5,\n",
    "        \"query\": {\n",
    "            \"bool\": {\n",
    "                \"must\": {\n",
    "                    \"multi_match\": {\n",
    "                        \"query\": query,\n",
    "                        \"fields\": [\"question^3\", \"text\", \"section\"],\n",
    "                        \"type\": \"best_fields\"\n",
    "                    }\n",
    "                },\n",
    "                \"filter\": {\n",
    "                    \"term\": {\n",
    "                        \"course\": \"data-engineering-zoomcamp\"\n",
    "                    }\n",
    "                }\n",
    "            }\n",
    "        }\n",
    "    }\n",
    "\n",
    "    response = es_client.search(index=index_name, body=search_query)\n",
    "    \n",
    "    result_docs = []\n",
    "    \n",
    "    for hit in response['hits']['hits']:\n",
    "        result_docs.append(hit['_source'])\n",
    "    \n",
    "    return result_docs"
   ]
  },
  {
   "cell_type": "code",
   "execution_count": 136,
   "id": "09659f2c-38c0-42f2-a3cd-473f2d25b7e9",
   "metadata": {},
   "outputs": [],
   "source": [
    "def rag(query):\n",
    "    search_results = elastic_search(query)\n",
    "    prompt = build_prompt(query, search_results)\n",
    "    answer = llm(prompt)\n",
    "    return answer"
   ]
  },
  {
   "cell_type": "code",
   "execution_count": 137,
   "id": "c420d0ee-7463-4f1c-b0c7-926877575e4e",
   "metadata": {},
   "outputs": [
    {
     "data": {
      "text/plain": [
       "\"I apologize, but there is no context provided for me to answer your question. Please provide the context from the FAQ database, and I'll be happy to help you with your question.\""
      ]
     },
     "execution_count": 137,
     "metadata": {},
     "output_type": "execute_result"
    }
   ],
   "source": [
    "rag(query)"
   ]
  },
  {
   "cell_type": "code",
   "execution_count": null,
   "id": "9c4c3548-c96e-4496-b2b5-a6a0e2fa26b2",
   "metadata": {},
   "outputs": [],
   "source": []
  }
 ],
 "metadata": {
  "kernelspec": {
   "display_name": "Python 3 (ipykernel)",
   "language": "python",
   "name": "python3"
  },
  "language_info": {
   "codemirror_mode": {
    "name": "ipython",
    "version": 3
   },
   "file_extension": ".py",
   "mimetype": "text/x-python",
   "name": "python",
   "nbconvert_exporter": "python",
   "pygments_lexer": "ipython3",
   "version": "3.12.1"
  }
 },
 "nbformat": 4,
 "nbformat_minor": 5
}
